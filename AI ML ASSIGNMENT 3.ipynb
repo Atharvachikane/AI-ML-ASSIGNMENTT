{
  "nbformat": 4,
  "nbformat_minor": 0,
  "metadata": {
    "colab": {
      "provenance": []
    },
    "kernelspec": {
      "name": "python3",
      "display_name": "Python 3"
    },
    "language_info": {
      "name": "python"
    }
  },
  "cells": [
    {
      "cell_type": "markdown",
      "source": [
        "# Numpy 100 Exercise"
      ],
      "metadata": {
        "id": "HYOZCny6uMOm"
      }
    },
    {
      "cell_type": "markdown",
      "source": [
        "This is a collection of exercises that have been collected in the numpy mailing list, on stack overflow and in the numpy documentation. The goal of this collection is to offer a quick reference for both old and new users but also to provide a set of exercises for those who teach.\n",
        "\n",
        "File automatically generated. See the documentation to update questions/answers/hints programmatically."
      ],
      "metadata": {
        "id": "G8mCDyoTvKJe"
      }
    },
    {
      "cell_type": "markdown",
      "source": [
        "# 1. **Import** **NumPy**"
      ],
      "metadata": {
        "id": "rjbFB3RnvVDQ"
      }
    },
    {
      "cell_type": "code",
      "execution_count": 3,
      "metadata": {
        "colab": {
          "base_uri": "https://localhost:8080/"
        },
        "id": "4vDVy7p2t-Se",
        "outputId": "52da8e1a-bd48-4440-e4c1-4c12ef77e2a3"
      },
      "outputs": [
        {
          "output_type": "stream",
          "name": "stdout",
          "text": [
            "1.26.4\n"
          ]
        }
      ],
      "source": [
        "import numpy as np\n",
        "print(np.__version__)"
      ]
    },
    {
      "cell_type": "markdown",
      "source": [
        "# **2. Create a NumPy Array**"
      ],
      "metadata": {
        "id": "gevlXwkkwHS3"
      }
    },
    {
      "cell_type": "code",
      "source": [
        "#create a new array from 0 to 9\n",
        "arr = np.arange(10,)\n",
        "print(arr)"
      ],
      "metadata": {
        "colab": {
          "base_uri": "https://localhost:8080/"
        },
        "id": "vY2-0GIrwJjw",
        "outputId": "dabf12e3-70b2-46f7-810c-ea6845f67e74"
      },
      "execution_count": 6,
      "outputs": [
        {
          "output_type": "stream",
          "name": "stdout",
          "text": [
            "[0 1 2 3 4 5 6 7 8 9]\n"
          ]
        }
      ]
    },
    {
      "cell_type": "markdown",
      "source": [
        "# **3. Create an Array of Zeros**"
      ],
      "metadata": {
        "id": "hMAHOKgkwrLP"
      }
    },
    {
      "cell_type": "code",
      "source": [
        "arr = np.zeros((3, 3))\n",
        "print(arr)"
      ],
      "metadata": {
        "colab": {
          "base_uri": "https://localhost:8080/"
        },
        "id": "v7hIJy8xwVqM",
        "outputId": "03691d57-8fe8-4dcf-cdeb-1e58d8698af9"
      },
      "execution_count": 9,
      "outputs": [
        {
          "output_type": "stream",
          "name": "stdout",
          "text": [
            "[[0. 0. 0.]\n",
            " [0. 0. 0.]\n",
            " [0. 0. 0.]]\n"
          ]
        }
      ]
    },
    {
      "cell_type": "markdown",
      "source": [
        "# **4. Create an Array of Ones**"
      ],
      "metadata": {
        "id": "WzMWMja-w-rT"
      }
    },
    {
      "cell_type": "code",
      "source": [
        "arr = np.ones((2, 4))\n",
        "print(arr)"
      ],
      "metadata": {
        "colab": {
          "base_uri": "https://localhost:8080/"
        },
        "id": "v9tjwMo2wuCo",
        "outputId": "c39c19ec-d847-42f8-f1ff-28c1c16eacbb"
      },
      "execution_count": 10,
      "outputs": [
        {
          "output_type": "stream",
          "name": "stdout",
          "text": [
            "[[1. 1. 1. 1.]\n",
            " [1. 1. 1. 1.]]\n"
          ]
        }
      ]
    },
    {
      "cell_type": "markdown",
      "source": [
        "# **5. Create an Identity Matrix**"
      ],
      "metadata": {
        "id": "yuktBjWexHYi"
      }
    },
    {
      "cell_type": "code",
      "source": [
        "arr = np.eye(4)\n",
        "print(arr)"
      ],
      "metadata": {
        "colab": {
          "base_uri": "https://localhost:8080/"
        },
        "id": "trnrO9qPxC45",
        "outputId": "c7f57ae7-a133-4bda-c295-2bd1dd519999"
      },
      "execution_count": 11,
      "outputs": [
        {
          "output_type": "stream",
          "name": "stdout",
          "text": [
            "[[1. 0. 0. 0.]\n",
            " [0. 1. 0. 0.]\n",
            " [0. 0. 1. 0.]\n",
            " [0. 0. 0. 1.]]\n"
          ]
        }
      ]
    },
    {
      "cell_type": "markdown",
      "source": [
        "# **6. Create a Random Array**"
      ],
      "metadata": {
        "id": "K8q37y_lxSDO"
      }
    },
    {
      "cell_type": "code",
      "source": [
        "arr = np.random.rand(2, 3)\n",
        "print(arr)"
      ],
      "metadata": {
        "colab": {
          "base_uri": "https://localhost:8080/"
        },
        "id": "ou0YgKclxKmW",
        "outputId": "e3a4598e-ee75-46fb-d23a-4ece7fe14c9e"
      },
      "execution_count": 12,
      "outputs": [
        {
          "output_type": "stream",
          "name": "stdout",
          "text": [
            "[[0.48827335 0.6774251  0.57557715]\n",
            " [0.00407587 0.55210972 0.20145951]]\n"
          ]
        }
      ]
    },
    {
      "cell_type": "markdown",
      "source": [
        "# **7. Reshape an Array**"
      ],
      "metadata": {
        "id": "xOnXNPW5xYJc"
      }
    },
    {
      "cell_type": "code",
      "source": [
        "arr = np.arange(9).reshape(3, 3)\n",
        "print(arr)"
      ],
      "metadata": {
        "colab": {
          "base_uri": "https://localhost:8080/"
        },
        "id": "MKV70H0zxfu6",
        "outputId": "b265c88e-787a-4184-e243-99c3e0f698e2"
      },
      "execution_count": 13,
      "outputs": [
        {
          "output_type": "stream",
          "name": "stdout",
          "text": [
            "[[0 1 2]\n",
            " [3 4 5]\n",
            " [6 7 8]]\n"
          ]
        }
      ]
    },
    {
      "cell_type": "markdown",
      "source": [
        "# **8. Find the Maximum Value**"
      ],
      "metadata": {
        "id": "dXWQtB5rxjK3"
      }
    },
    {
      "cell_type": "code",
      "source": [
        "arr = np.array([10, 20, 5, 30])\n",
        "print(np.max(arr))"
      ],
      "metadata": {
        "colab": {
          "base_uri": "https://localhost:8080/"
        },
        "id": "zCFbuSRhxgJd",
        "outputId": "034689b5-dc26-46be-c1f8-7841aef6ed51"
      },
      "execution_count": 14,
      "outputs": [
        {
          "output_type": "stream",
          "name": "stdout",
          "text": [
            "30\n"
          ]
        }
      ]
    },
    {
      "cell_type": "markdown",
      "source": [
        "# **9. Find the Minimum Value**"
      ],
      "metadata": {
        "id": "aU3OOiGCxpzg"
      }
    },
    {
      "cell_type": "code",
      "source": [
        "arr = np.array([10, 20, 5, 30])\n",
        "print(np.min(arr))"
      ],
      "metadata": {
        "colab": {
          "base_uri": "https://localhost:8080/"
        },
        "id": "KVebD7F0xmt4",
        "outputId": "05482cc9-4524-4c8a-ad7c-eca171b901dc"
      },
      "execution_count": 15,
      "outputs": [
        {
          "output_type": "stream",
          "name": "stdout",
          "text": [
            "5\n"
          ]
        }
      ]
    },
    {
      "cell_type": "markdown",
      "source": [
        "# **10. Find the Mean**\n"
      ],
      "metadata": {
        "id": "xl08DL5Ex0Sn"
      }
    },
    {
      "cell_type": "code",
      "source": [
        "arr = np.array([1, 2, 3, 4, 5])\n",
        "print(np.mean(arr))"
      ],
      "metadata": {
        "colab": {
          "base_uri": "https://localhost:8080/"
        },
        "id": "40x-8NiCxwfz",
        "outputId": "76afc21b-0308-48e4-d5a3-911c4bc38a68"
      },
      "execution_count": 16,
      "outputs": [
        {
          "output_type": "stream",
          "name": "stdout",
          "text": [
            "3.0\n"
          ]
        }
      ]
    },
    {
      "cell_type": "code",
      "source": [],
      "metadata": {
        "id": "VWMPzBZjyAVd"
      },
      "execution_count": null,
      "outputs": []
    }
  ]
}