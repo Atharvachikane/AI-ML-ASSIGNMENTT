{
  "nbformat": 4,
  "nbformat_minor": 0,
  "metadata": {
    "colab": {
      "provenance": []
    },
    "kernelspec": {
      "name": "python3",
      "display_name": "Python 3"
    },
    "language_info": {
      "name": "python"
    }
  },
  "cells": [
    {
      "cell_type": "markdown",
      "source": [
        "# **INTEGER**"
      ],
      "metadata": {
        "id": "NuNlpgHhe-0o"
      }
    },
    {
      "cell_type": "code",
      "source": [
        "A=\"20\"\n",
        "B=\"20\"\n",
        "\n",
        "#for A+B it will add both of them as string i.e 2020 so,\n",
        "print(int(A)+int(B))"
      ],
      "metadata": {
        "colab": {
          "base_uri": "https://localhost:8080/"
        },
        "id": "zAs8UBJjfF3n",
        "outputId": "f4c8935d-709b-436d-f9d9-77b8b1e69d52"
      },
      "execution_count": null,
      "outputs": [
        {
          "output_type": "stream",
          "name": "stdout",
          "text": [
            "40\n"
          ]
        }
      ]
    },
    {
      "cell_type": "markdown",
      "source": [
        "# **FLOAT**"
      ],
      "metadata": {
        "id": "xbdWfr9Egsxi"
      }
    },
    {
      "cell_type": "code",
      "source": [
        "# Convert an integer to a float\n",
        "num1 = float(10)\n",
        "print(num1)\n",
        "\n",
        "# Convert a string to a float\n",
        "num2 = float(\"12.34\")\n",
        "print(num2)\n",
        "\n",
        "# Convert a negative number to a float\n",
        "num3 = float(\"-5\")\n",
        "print(num3)\n"
      ],
      "metadata": {
        "colab": {
          "base_uri": "https://localhost:8080/"
        },
        "id": "wiiWM7tvgxmz",
        "outputId": "38cc4b2b-c410-4727-df49-5bd3455b11cb"
      },
      "execution_count": null,
      "outputs": [
        {
          "output_type": "stream",
          "name": "stdout",
          "text": [
            "10.0\n",
            "12.34\n",
            "-5.0\n"
          ]
        }
      ]
    },
    {
      "cell_type": "markdown",
      "source": [
        "# **String**"
      ],
      "metadata": {
        "id": "mu6tL9NEiFKn"
      }
    },
    {
      "cell_type": "code",
      "source": [
        "str1=(\"Hello !! welcome to our project , \")\n",
        "str2=(\"Thank you to your time\")\n",
        "\n",
        "print(str1+str2)\n"
      ],
      "metadata": {
        "colab": {
          "base_uri": "https://localhost:8080/"
        },
        "id": "Xgbkug6kjxBg",
        "outputId": "452c73c6-3bb0-45f8-ef0c-c4786beb68ff"
      },
      "execution_count": null,
      "outputs": [
        {
          "output_type": "stream",
          "name": "stdout",
          "text": [
            "Hello !! welcome to our project , Thank you to your time\n"
          ]
        }
      ]
    },
    {
      "cell_type": "markdown",
      "source": [
        "# **List**"
      ],
      "metadata": {
        "id": "37Q-0DGtm8z2"
      }
    },
    {
      "cell_type": "code",
      "source": [
        "list1=[1,2,3,4,5]\n",
        "list2=[6,7,8,9,10]\n",
        "\n",
        "print(list1+list2)"
      ],
      "metadata": {
        "colab": {
          "base_uri": "https://localhost:8080/"
        },
        "id": "YcPmy4fpnGI6",
        "outputId": "495134ab-6100-458f-9a5b-e3fed1e103ca"
      },
      "execution_count": null,
      "outputs": [
        {
          "output_type": "stream",
          "name": "stdout",
          "text": [
            "[1, 2, 3, 4, 5, 6, 7, 8, 9, 10]\n"
          ]
        }
      ]
    },
    {
      "cell_type": "markdown",
      "source": [
        "# **Tuple**"
      ],
      "metadata": {
        "id": "6v7BDBSunY8U"
      }
    },
    {
      "cell_type": "markdown",
      "source": [],
      "metadata": {
        "id": "KERrmS6FnY48"
      }
    },
    {
      "cell_type": "code",
      "source": [
        "tuple_variable = {\"name\":\"john\",\"age\":25}"
      ],
      "metadata": {
        "id": "Zsq5GbqAns6a"
      },
      "execution_count": null,
      "outputs": []
    },
    {
      "cell_type": "markdown",
      "source": [],
      "metadata": {
        "id": "TgRQDEg2qdRY"
      }
    },
    {
      "cell_type": "markdown",
      "source": [
        "# **Complex**"
      ],
      "metadata": {
        "id": "FfOTyHnAvpRW"
      }
    },
    {
      "cell_type": "code",
      "source": [
        "num1 = complex(3, 4)\n",
        "print(num1)"
      ],
      "metadata": {
        "colab": {
          "base_uri": "https://localhost:8080/"
        },
        "id": "Yf1zqZAqvRMF",
        "outputId": "878050ac-d86f-4615-e64f-64741edb074e"
      },
      "execution_count": null,
      "outputs": [
        {
          "output_type": "stream",
          "name": "stdout",
          "text": [
            "(3+4j)\n"
          ]
        }
      ]
    },
    {
      "cell_type": "markdown",
      "source": [
        "# **Set**"
      ],
      "metadata": {
        "id": "xG1JzBoJvuJV"
      }
    },
    {
      "cell_type": "code",
      "source": [
        "fruits = {\"apple\", \"banana\", \"cherry\"}\n",
        "print(fruits)"
      ],
      "metadata": {
        "colab": {
          "base_uri": "https://localhost:8080/"
        },
        "id": "gCHoQgcJp3Ws",
        "outputId": "2fea4652-a35f-4398-c93a-1277f13104ae"
      },
      "execution_count": null,
      "outputs": [
        {
          "output_type": "stream",
          "name": "stdout",
          "text": [
            "{'banana', 'apple', 'cherry'}\n"
          ]
        }
      ]
    },
    {
      "cell_type": "markdown",
      "source": [
        "# **Dictionary**"
      ],
      "metadata": {
        "id": "ZvMzAQyoyUVN"
      }
    },
    {
      "cell_type": "code",
      "source": [
        "student = {\n",
        "    \"name\": \"Alice\",\n",
        "    \"age\": 20,\n",
        "    \"grade\": \"A\"\n",
        "}"
      ],
      "metadata": {
        "id": "MbzWFduXxe20"
      },
      "execution_count": null,
      "outputs": []
    },
    {
      "cell_type": "markdown",
      "source": [
        "# **Boolean**"
      ],
      "metadata": {
        "id": "ydUQWxsJ0Sdd"
      }
    },
    {
      "cell_type": "code",
      "source": [
        "a = True\n",
        "b = False\n",
        "print(a)\n",
        "print(b)\n",
        "\n",
        "print(bool(1))"
      ],
      "metadata": {
        "colab": {
          "base_uri": "https://localhost:8080/"
        },
        "id": "mAQHCLJlz60Y",
        "outputId": "6294e788-1ecc-4b1e-8f2f-baaf9bb73e88"
      },
      "execution_count": null,
      "outputs": [
        {
          "output_type": "stream",
          "name": "stdout",
          "text": [
            "True\n",
            "False\n",
            "True\n"
          ]
        }
      ]
    }
  ]
}